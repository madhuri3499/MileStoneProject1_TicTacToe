{
 "cells": [
  {
   "cell_type": "code",
   "execution_count": 2,
   "id": "b5fb0c1c",
   "metadata": {},
   "outputs": [],
   "source": [
    "game_list = [0,1,2]"
   ]
  },
  {
   "cell_type": "code",
   "execution_count": 2,
   "id": "4c05a9d8",
   "metadata": {},
   "outputs": [],
   "source": [
    "def display_game(mylist):\n",
    "    print(mylist)"
   ]
  },
  {
   "cell_type": "code",
   "execution_count": 3,
   "id": "fa7324b3",
   "metadata": {},
   "outputs": [],
   "source": [
    "def position_choice():\n",
    "    choice = 'wrong'\n",
    "    while choice not in ['1','2','3']:\n",
    "        \n",
    "        choice = input(\"Please enter number in (0,1,2)\")\n",
    "        \n",
    "        if not choice.isdigit():\n",
    "            print('Sorry not a number')\n",
    "        elif choice not in ['1','2','3']:\n",
    "            print(\"Enter number in (0,1,2)\")\n",
    "    return int(choice)"
   ]
  },
  {
   "cell_type": "code",
   "execution_count": 5,
   "id": "e99e3100",
   "metadata": {},
   "outputs": [
    {
     "name": "stdout",
     "output_type": "stream",
     "text": [
      "Please enter number in (0,1,2)1\n"
     ]
    },
    {
     "data": {
      "text/plain": [
       "1"
      ]
     },
     "execution_count": 5,
     "metadata": {},
     "output_type": "execute_result"
    }
   ],
   "source": [
    "position_choice()"
   ]
  },
  {
   "cell_type": "code",
   "execution_count": 4,
   "id": "9b2c86e0",
   "metadata": {},
   "outputs": [],
   "source": [
    "def replacement_choice(gamelist,pos):\n",
    "    replace_str = input(\"Enter a string to replace\")\n",
    "    gamelist[pos] = replace_str\n",
    "    return gamelist"
   ]
  },
  {
   "cell_type": "code",
   "execution_count": 7,
   "id": "d46e1179",
   "metadata": {},
   "outputs": [
    {
     "name": "stdout",
     "output_type": "stream",
     "text": [
      "Enter a string to replacema\n"
     ]
    },
    {
     "data": {
      "text/plain": [
       "[0, 'ma', 2]"
      ]
     },
     "execution_count": 7,
     "metadata": {},
     "output_type": "execute_result"
    }
   ],
   "source": [
    "replacement_choice(game_list,1)"
   ]
  },
  {
   "cell_type": "code",
   "execution_count": 5,
   "id": "ecc8da2d",
   "metadata": {},
   "outputs": [],
   "source": [
    "def game_on():\n",
    "    choice = 'wrong'\n",
    "    while choice not in ['Y','N']:\n",
    "        \n",
    "        choice = input(\"Please select Y or N\")\n",
    "        \n",
    "        if choice not in ['Y','N']:\n",
    "            print(\"Sorry! Invalid choice\")\n",
    "    if choice=='Y':\n",
    "        return True\n",
    "    else:\n",
    "        return False"
   ]
  },
  {
   "cell_type": "code",
   "execution_count": 9,
   "id": "23852f84",
   "metadata": {},
   "outputs": [
    {
     "name": "stdout",
     "output_type": "stream",
     "text": [
      "Please select Y or NY\n"
     ]
    },
    {
     "data": {
      "text/plain": [
       "True"
      ]
     },
     "execution_count": 9,
     "metadata": {},
     "output_type": "execute_result"
    }
   ],
   "source": [
    "game_on()"
   ]
  },
  {
   "cell_type": "code",
   "execution_count": 6,
   "id": "095977a8",
   "metadata": {},
   "outputs": [
    {
     "name": "stdout",
     "output_type": "stream",
     "text": [
      "[0, 1, 2]\n",
      "Please enter number in (0,1,2)test\n",
      "Sorry not a number\n",
      "Please enter number in (0,1,2)we\n",
      "Sorry not a number\n",
      "Please enter number in (0,1,2)1\n",
      "Enter a string to replacemadhu\n",
      "[0, 'madhu', 2]\n",
      "Please select Y or Nh\n",
      "Sorry! Invalid choice\n",
      "Please select Y or NY\n",
      "[0, 'madhu', 2]\n",
      "Please enter number in (0,1,2)1\n",
      "Enter a string to replaceajay\n",
      "[0, 'ajay', 2]\n",
      "Please select Y or NN\n"
     ]
    }
   ],
   "source": [
    "game_onval = True\n",
    "game_list = [0,1,2]\n",
    "\n",
    "while game_onval:\n",
    "    \n",
    "    display_game(game_list)\n",
    "    \n",
    "    pos = position_choice()\n",
    "    \n",
    "    game_list = replacement_choice(game_list,pos)\n",
    "    \n",
    "    display_game(game_list)\n",
    "    \n",
    "    game_onval = game_on()"
   ]
  },
  {
   "cell_type": "code",
   "execution_count": null,
   "id": "103e8e09",
   "metadata": {},
   "outputs": [],
   "source": []
  }
 ],
 "metadata": {
  "kernelspec": {
   "display_name": "Python 3 (ipykernel)",
   "language": "python",
   "name": "python3"
  },
  "language_info": {
   "codemirror_mode": {
    "name": "ipython",
    "version": 3
   },
   "file_extension": ".py",
   "mimetype": "text/x-python",
   "name": "python",
   "nbconvert_exporter": "python",
   "pygments_lexer": "ipython3",
   "version": "3.9.7"
  }
 },
 "nbformat": 4,
 "nbformat_minor": 5
}
